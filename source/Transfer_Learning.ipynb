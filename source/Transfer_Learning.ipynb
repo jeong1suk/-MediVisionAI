{
 "cells": [
  {
   "cell_type": "markdown",
   "id": "4e2363bc",
   "metadata": {},
   "source": [
    "# 한정된 데이터로 Transfer learning 적용해보기"
   ]
  },
  {
   "cell_type": "markdown",
   "id": "a4e603e6",
   "metadata": {},
   "source": [
    "# 1. CT이미지 데이터셋 살펴보기"
   ]
  },
  {
   "cell_type": "code",
   "execution_count": null,
   "id": "6c290d84",
   "metadata": {},
   "outputs": [],
   "source": [
    "import os\n",
    "import cv2\n",
    "import numpy as np\n",
    "import pandas as pd\n",
    "import matplotlib.pyplot as plt\n",
    "\n",
    "import torch"
   ]
  },
  {
   "cell_type": "code",
   "execution_count": null,
   "id": "22606e5c",
   "metadata": {},
   "outputs": [],
   "source": [
    "data_dir = \"./DATASET/Segmentation/\"\n",
    "data_df = pd.read_csv(os.path.join(data_dir, \"train.csv\"))"
   ]
  },
  {
   "cell_type": "code",
   "execution_count": null,
   "id": "8e394452",
   "metadata": {},
   "outputs": [],
   "source": [
    "data_df"
   ]
  },
  {
   "cell_type": "code",
   "execution_count": null,
   "id": "9c144057",
   "metadata": {},
   "outputs": [],
   "source": [
    "def extract_client_id(x):\n",
    "    return x.split('-')[0]"
   ]
  },
  {
   "cell_type": "code",
   "execution_count": null,
   "id": "7bcb25f3",
   "metadata": {
    "scrolled": true
   },
   "outputs": [],
   "source": [
    "data_df['id'] = data_df.ImageId.apply(lambda x: extract_client_id(x))\n",
    "data_df"
   ]
  },
  {
   "cell_type": "code",
   "execution_count": null,
   "id": "3802c442",
   "metadata": {},
   "outputs": [],
   "source": [
    "def get_client_data(data_df, index):\n",
    "    client_ids = np.unique(data_df.id.values)\n",
    "    client_id = client_ids[index]\n",
    "    client_data = data_df[data_df.id == client_id]\n",
    "    Image_files = list(client_data['ImageId'])\n",
    "    mask_files = list(client_data['MaskId'])\n",
    "    return client_id, Image_files, mask_files"
   ]
  },
  {
   "cell_type": "code",
   "execution_count": null,
   "id": "5225e028",
   "metadata": {},
   "outputs": [],
   "source": [
    "index = 100\n",
    "get_client_data(data_df, index)"
   ]
  },
  {
   "cell_type": "code",
   "execution_count": null,
   "id": "c6d35122",
   "metadata": {},
   "outputs": [],
   "source": [
    "regions = [\"background\", \"trachea\", \"heart\", \"lung\"]\n",
    "colors = ((0,0,0), (255,0,0), (0,255,0), (0,0,255))"
   ]
  },
  {
   "cell_type": "code",
   "execution_count": null,
   "id": "05f7e5ae",
   "metadata": {},
   "outputs": [],
   "source": [
    "index = 50\n",
    "client_id, image_files , mask_files = get_client_data(data_df, index)\n",
    "\n",
    "canvas = np.zeros(shape=(512, 2*512+50, 3), dtype=np.uint8)\n",
    "for i in range(len(image_files)):\n",
    "    image = cv2.imread(os.path.join(data_dir, \"images\", image_files[i]))\n",
    "    mask = cv2.imread(os.path.join(data_dir, \"masks\", mask_files[i]))\n",
    "    image = cv2.cvtColor(image, cv2.COLOR_BGR2RGB)\n",
    "    mask = cv2.cvtColor(mask, cv2.COLOR_BGR2RGB)\n",
    "    mask[mask<240] = 0\n",
    "    mask[mask>=240] = 255\n",
    "    \n",
    "    canvas[:, 0:512, :] = image\n",
    "    canvas[:, 512+50:2*512+50, :] = mask\n",
    "    \n",
    "    cv2.imshow('image', canvas)\n",
    "    key = cv2.waitKey(100)\n",
    "    if key == 27:\n",
    "        break\n",
    "    if key == ord('s'):\n",
    "        cv2.waitKey(0)\n",
    "cv2.destroyAllWindows()"
   ]
  },
  {
   "cell_type": "markdown",
   "id": "f1621936",
   "metadata": {},
   "source": [
    "# 2. 데이터셋 구축과 연산을 위한 텐서변환 모듈 작성하기"
   ]
  },
  {
   "cell_type": "markdown",
   "id": "9faf8ee8",
   "metadata": {},
   "source": [
    "# 3. VGG16 Backbone을 이용한 U-Net 아키텍쳐 구현해보기"
   ]
  },
  {
   "cell_type": "markdown",
   "id": "e9730808",
   "metadata": {},
   "source": [
    "# 4. Semantic segmentation Loss와 학습코드 작성하기"
   ]
  },
  {
   "cell_type": "markdown",
   "id": "17c161a3",
   "metadata": {},
   "source": [
    "# 5. Weight Initialization 과 Transfer learning 모델 비교하기"
   ]
  },
  {
   "cell_type": "markdown",
   "id": "4caa7c9c",
   "metadata": {},
   "source": [
    "## 5-1 He initialization"
   ]
  },
  {
   "cell_type": "code",
   "execution_count": null,
   "id": "8f665440",
   "metadata": {},
   "outputs": [],
   "source": []
  }
 ],
 "metadata": {
  "kernelspec": {
   "display_name": "Python 3 (ipykernel)",
   "language": "python",
   "name": "python3"
  },
  "language_info": {
   "codemirror_mode": {
    "name": "ipython",
    "version": 3
   },
   "file_extension": ".py",
   "mimetype": "text/x-python",
   "name": "python",
   "nbconvert_exporter": "python",
   "pygments_lexer": "ipython3",
   "version": "3.9.12"
  }
 },
 "nbformat": 4,
 "nbformat_minor": 5
}
