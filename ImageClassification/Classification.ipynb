{
  "nbformat": 4,
  "nbformat_minor": 0,
  "metadata": {
    "colab": {
      "private_outputs": true,
      "provenance": [],
      "mount_file_id": "15cVoWC8jFJDVi3tv2P2ck8bQdKQ7d0jf",
      "authorship_tag": "ABX9TyOQPtEYCLbY8M9nSYyKtyaW",
      "include_colab_link": true
    },
    "kernelspec": {
      "name": "python3",
      "display_name": "Python 3"
    },
    "language_info": {
      "name": "python"
    }
  },
  "cells": [
    {
      "cell_type": "markdown",
      "metadata": {
        "id": "view-in-github",
        "colab_type": "text"
      },
      "source": [
        "<a href=\"https://colab.research.google.com/github/jeong1suk/CT_Classification_segmentation/blob/main/ImageClassification/Classification.ipynb\" target=\"_parent\"><img src=\"https://colab.research.google.com/assets/colab-badge.svg\" alt=\"Open In Colab\"/></a>"
      ]
    },
    {
      "cell_type": "markdown",
      "source": [
        "# 흉부 X-ray 이미지로 정상/코로나 폐렴을 분류하는 Image Classification"
      ],
      "metadata": {
        "id": "Ljo3BnwSYkL4"
      }
    },
    {
      "cell_type": "markdown",
      "source": [
        "## 1. 라이브러리 불러오기"
      ],
      "metadata": {
        "id": "UZy19xU5YsWb"
      }
    },
    {
      "cell_type": "code",
      "execution_count": null,
      "metadata": {
        "id": "WVbnql1FYgHd"
      },
      "outputs": [],
      "source": [
        "import os\n",
        "import copy\n",
        "import random\n",
        "\n",
        "import cv2\n",
        "import torch\n",
        "import numpy as np\n",
        "from torch import nn\n",
        "from torchvision import transforms, models\n",
        "from torch.utils.data import Dataset, DataLoader\n",
        "import matplotlib.pyplot as plt\n",
        "from ipywidgets import interact\n",
        "\n",
        "random_seed = 2000\n",
        "\n",
        "random.seed(random_seed)\n",
        "np.random.seed(random_seed)\n",
        "torch.manual_seed(random_seed)\n",
        "torch.cuda.manual_seed(random_seed)\n",
        "torch.backends.cudnn.deterministic = True\n",
        "torch.backends.cudnn.benchmark = False"
      ]
    },
    {
      "cell_type": "markdown",
      "source": [
        "## 2. 이미지 파일경로 불러오기"
      ],
      "metadata": {
        "id": "9XRHtHXxZ7hZ"
      }
    },
    {
      "cell_type": "code",
      "source": [
        "def list_image_files(data_dir, sub_dir):\n",
        "    image_format = [\"jpeg\", \"jpg\", \"png\"]\n",
        "\n",
        "    image_files = []\n",
        "    images_dir = os.path.join(data_dir, sub_dir)\n",
        "    for file_path in os.listdir(images_dir):\n",
        "        if file_path.split(\".\")[-1] in image_format:\n",
        "            image_files.append(os.path.join(sub_dir, file_path))\n",
        "    return image_files"
      ],
      "metadata": {
        "id": "ZVIGEJt8Z5j3"
      },
      "execution_count": null,
      "outputs": []
    },
    {
      "cell_type": "code",
      "source": [
        "data_dir = \"/content/drive/MyDrive/DATASET/Classification/train/\"\n",
        "\n",
        "normals_list = list_image_files(data_dir, \"Normal\")\n",
        "covids_list = list_image_files(data_dir, \"Covid\")\n",
        "pneumonias_list = list_image_files(data_dir, \"Viral Pneumonia\")"
      ],
      "metadata": {
        "id": "7RBChF7QaQns"
      },
      "execution_count": null,
      "outputs": []
    },
    {
      "cell_type": "code",
      "source": [
        "print(len(normals_list), len(covids_list), len(pneumonias_list))"
      ],
      "metadata": {
        "id": "leGvFY1DaXu1"
      },
      "execution_count": null,
      "outputs": []
    },
    {
      "cell_type": "markdown",
      "source": [
        "## 3. 이미지파일을 RGB 3차원 배열로 불러오기"
      ],
      "metadata": {
        "id": "fP8t7X-ta9nG"
      }
    },
    {
      "cell_type": "code",
      "source": [
        "def get_RGB_image(data_dir, file_name):\n",
        "    image_file = os.path.join(data_dir, file_name)\n",
        "    image = cv2.imread(image_file)\n",
        "    image = cv2.cvtColor(image, cv2.COLOR_BGR2RGB)\n",
        "    return image"
      ],
      "metadata": {
        "id": "UP3ErobNa8FZ"
      },
      "execution_count": null,
      "outputs": []
    },
    {
      "cell_type": "markdown",
      "source": [
        "## 4. 이미지데이터 확인하기"
      ],
      "metadata": {
        "id": "Mqsh4Bn8bLm8"
      }
    },
    {
      "cell_type": "code",
      "source": [
        "min_num_files = min(len(normals_list), len(covids_list), len(pneumonias_list))\n",
        "\n",
        "@interact(index=(0, min_num_files-1))\n",
        "def show_samples(index=0):\n",
        "    normal_image = get_RGB_image(data_dir, normals_list[index])\n",
        "    covid_image = get_RGB_image(data_dir, covids_list[index])\n",
        "    pneumonia_image = get_RGB_image(data_dir, pneumonias_list[index])\n",
        "\n",
        "    plt.figure(figsize=(12,8))\n",
        "    plt.subplot(131)\n",
        "    plt.title(\"Normal\")\n",
        "    plt.imshow(normal_image)\n",
        "    plt.subplot(132)\n",
        "    plt.title(\"Covid\")\n",
        "    plt.imshow(covid_image)\n",
        "    plt.subplot(133)\n",
        "    plt.title(\"Viral Pneumonia\")\n",
        "    plt.imshow(pneumonia_image)\n",
        "    plt.tight_layout()"
      ],
      "metadata": {
        "id": "pNSxx9QZbKyQ"
      },
      "execution_count": null,
      "outputs": []
    },
    {
      "cell_type": "markdown",
      "source": [
        "~인덱스별로 하나씩 확인하려고 interact 쓴건데 계속 쌓이네??~"
      ],
      "metadata": {
        "id": "9FRUqS2lb4rK"
      }
    },
    {
      "cell_type": "markdown",
      "source": [
        "## 5. 학습데이터셋 클래스 구축"
      ],
      "metadata": {
        "id": "ysPR9n9LciK-"
      }
    },
    {
      "cell_type": "code",
      "source": [
        "train_data_dir = \"/content/drive/MyDrive/DATASET/Classification/train/\"\n",
        "class_list = [\"Normal\", \"Covid\", \"Viral Pneumonia\"]"
      ],
      "metadata": {
        "id": "PJtZ-wOWbu4F"
      },
      "execution_count": null,
      "outputs": []
    },
    {
      "cell_type": "code",
      "source": [
        "class Chest_dataset(Dataset):\n",
        "    def __init__(self, data_dir, transformer=None):\n",
        "        self.data_dir = data_dir\n",
        "        normals = list_image_files(data_dir, \"Normal\")\n",
        "        covids = list_image_files(data_dir, \"Covid\")\n",
        "        pneumonias = list_image_files(data_dir, \"Viral Pneumonia\")\n",
        "\n",
        "        self.files_path = normals + covids + pneumonias\n",
        "        self.transform = transform\n",
        "\n",
        "    def __len__(self):\n",
        "        return len(self.files_path)\n",
        "\n",
        "    def __getitem__(self, index):\n",
        "        image_file = os.path.join(self.data_dir, self.files_path[index])\n",
        "        image = cv2.imread(image_file)\n",
        "        image = cv2.cvtColor(image, cv2.COLOR_BGR2RGB)\n",
        "\n",
        "        # target = class_list.index(self.files_path[index].split(os.sep)[-2])\n",
        "\n",
        "        target = class_list.index(self.files_path[index].split(os.sep)[0])\n",
        "\n",
        "        if self.transform:\n",
        "            image = self.transform(image)\n",
        "            target = torch.Tensor([target]).long()\n",
        "\n",
        "        return {\"image\":image, \"target\":target}"
      ],
      "metadata": {
        "id": "7VJIHOugdXTm"
      },
      "execution_count": null,
      "outputs": []
    },
    {
      "cell_type": "code",
      "source": [
        "normals = list_image_files(data_dir, \"Normal\")\n",
        "covids = list_image_files(data_dir, \"Covid\")\n",
        "pneumonias = list_image_files(data_dir, \"Viral Pneumonia\")\n",
        "files_path = normals + covids + pneumonias\n",
        "print(files_path)"
      ],
      "metadata": {
        "id": "jn2n8eNXe5SU"
      },
      "execution_count": null,
      "outputs": []
    },
    {
      "cell_type": "code",
      "source": [
        "print(files_path[200].split(os.sep)[0])"
      ],
      "metadata": {
        "id": "LlCRx761eySI"
      },
      "execution_count": null,
      "outputs": []
    },
    {
      "cell_type": "code",
      "source": [
        "dset = Chest_dataset(train_data_dir)"
      ],
      "metadata": {
        "id": "x0mAT9_ifDmE"
      },
      "execution_count": null,
      "outputs": []
    },
    {
      "cell_type": "code",
      "source": [
        "index = 200\n",
        "plt.title(class_list[dset[index][\"target\"]])\n",
        "plt.imshow(dset[index][\"image\"])"
      ],
      "metadata": {
        "id": "lbIv7z0MfkE1"
      },
      "execution_count": null,
      "outputs": []
    },
    {
      "cell_type": "markdown",
      "source": [
        "## 6. 데이터로더 구현하기"
      ],
      "metadata": {
        "id": "ddYEdb2Hf8KK"
      }
    },
    {
      "cell_type": "code",
      "source": [
        "transformer = transforms.Compose([\n",
        "    transforms.ToTensor(),\n",
        "    transforms.Resize((224,224)),\n",
        "    transforms.Normalize(mean=[0.5, 0.5, 0.5], std=[0.5, 0.5, 0.5])\n",
        "])"
      ],
      "metadata": {
        "id": "2Sb7iiHZhKY6"
      },
      "execution_count": null,
      "outputs": []
    },
    {
      "cell_type": "code",
      "source": [
        "def build_dataloader(train_data_dir, val_data_dir):\n",
        "    dataloaders = {}\n",
        "    train_dset = Chest_dataset(train_data_dir, transformer)\n",
        "    dataloaders[\"train\"] = DataLoader(train_dset, batch_size=4, shuffle=True, drop_last=True)\n",
        "\n",
        "    val_dset = Chest_dataset(val_data_dir, transformer)\n",
        "    dataloaders[\"val\"] = DataLoader(val_dset, batch_size=1, shuffle=False, drop_last=False)\n",
        "    return dataloaders"
      ],
      "metadata": {
        "id": "q3t7SUf4f-ve"
      },
      "execution_count": null,
      "outputs": []
    },
    {
      "cell_type": "code",
      "source": [
        "train_data_dir = \"/content/drive/MyDrive/DATASET/Classification/train/\"\n",
        "val_data_dir = \"/content/drive/MyDrive/DATASET/Classification/test/\"\n",
        "dataloaders = build_dataloader(train_data_dir, val_data_dir)"
      ],
      "metadata": {
        "id": "1vcD_SYqgVlm"
      },
      "execution_count": null,
      "outputs": []
    },
    {
      "cell_type": "code",
      "source": [
        "print(dataloaders)"
      ],
      "metadata": {
        "id": "mUJz_1Pthcjr"
      },
      "execution_count": null,
      "outputs": []
    },
    {
      "cell_type": "code",
      "source": [
        "for i, d in enumerate(dataloaders[\"train\"]):\n",
        "    if i == 0:\n",
        "        break"
      ],
      "metadata": {
        "id": "hZzjn7EkghXX"
      },
      "execution_count": null,
      "outputs": []
    },
    {
      "cell_type": "code",
      "source": [
        "d[\"target\"].shape"
      ],
      "metadata": {
        "id": "XGVuxdEIgyKs"
      },
      "execution_count": null,
      "outputs": []
    },
    {
      "cell_type": "code",
      "source": [
        "d[\"target\"].squeeze()"
      ],
      "metadata": {
        "id": "mRFpU7Rxg2dT"
      },
      "execution_count": null,
      "outputs": []
    },
    {
      "cell_type": "code",
      "source": [],
      "metadata": {
        "id": "e_LRLzK5hRgg"
      },
      "execution_count": null,
      "outputs": []
    }
  ]
}